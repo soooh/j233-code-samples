{
 "cells": [
  {
   "cell_type": "markdown",
   "id": "469f7de8",
   "metadata": {
    "toc": true
   },
   "source": [
    "# Lecture 02 Code samples"
   ]
  },
  {
   "cell_type": "markdown",
   "id": "0911d01a",
   "metadata": {},
   "source": [
    "## `while` loops"
   ]
  },
  {
   "cell_type": "code",
   "execution_count": 1,
   "id": "49b80b59",
   "metadata": {},
   "outputs": [
    {
     "name": "stdout",
     "output_type": "stream",
     "text": [
      "0: ineligible to drive\n",
      "1: ineligible to drive\n",
      "2: ineligible to drive\n",
      "3: ineligible to drive\n",
      "4: ineligible to drive\n",
      "5: ineligible to drive\n",
      "6: ineligible to drive\n",
      "7: ineligible to drive\n",
      "8: ineligible to drive\n",
      "9: ineligible to drive\n",
      "10: ineligible to drive\n",
      "11: ineligible to drive\n",
      "12: ineligible to drive\n",
      "13: ineligible to drive\n",
      "14: ineligible to drive\n",
      "15: ineligible to drive\n"
     ]
    }
   ],
   "source": [
    "# While the condition is met\n",
    "# continue to loop\n",
    "age = 0\n",
    "while age <= 15:\n",
    "    print(f'{ age }: ineligible to drive')\n",
    "    age = age + 1\n",
    "    # You can also write:\n",
    "    # age += 1 "
   ]
  },
  {
   "cell_type": "markdown",
   "id": "14ff21a7",
   "metadata": {},
   "source": [
    "## `for` loops\n",
    "\n",
    "A request from a reporter at Reveal: Scrape complaints from website: https://www.ftc.gov/policy/public-comments/2018/10/initiative-777\n",
    "\n",
    "(Used in [this story](https://revealnews.org/podcast/the-ticket-trap/))"
   ]
  },
  {
   "cell_type": "code",
   "execution_count": 2,
   "id": "8207de39",
   "metadata": {},
   "outputs": [
    {
     "name": "stdout",
     "output_type": "stream",
     "text": [
      "https://www.ftc.gov/policy/public-comments/2018/10/initiative-777\n",
      "https://www.ftc.gov/policy/public-comments/2018/10/initiative-777?page=1\n",
      "https://www.ftc.gov/policy/public-comments/2018/10/initiative-777?page=2\n",
      "https://www.ftc.gov/policy/public-comments/2018/10/initiative-777?page=3\n",
      "https://www.ftc.gov/policy/public-comments/2018/10/initiative-777?page=4\n",
      "https://www.ftc.gov/policy/public-comments/2018/10/initiative-777?page=5\n",
      "https://www.ftc.gov/policy/public-comments/2018/10/initiative-777?page=6\n",
      "https://www.ftc.gov/policy/public-comments/2018/10/initiative-777?page=7\n",
      "https://www.ftc.gov/policy/public-comments/2018/10/initiative-777?page=8\n",
      "https://www.ftc.gov/policy/public-comments/2018/10/initiative-777?page=9\n",
      "https://www.ftc.gov/policy/public-comments/2018/10/initiative-777?page=10\n",
      "https://www.ftc.gov/policy/public-comments/2018/10/initiative-777?page=11\n",
      "https://www.ftc.gov/policy/public-comments/2018/10/initiative-777?page=12\n",
      "https://www.ftc.gov/policy/public-comments/2018/10/initiative-777?page=13\n",
      "https://www.ftc.gov/policy/public-comments/2018/10/initiative-777?page=14\n",
      "https://www.ftc.gov/policy/public-comments/2018/10/initiative-777?page=15\n",
      "https://www.ftc.gov/policy/public-comments/2018/10/initiative-777?page=16\n",
      "https://www.ftc.gov/policy/public-comments/2018/10/initiative-777?page=17\n",
      "https://www.ftc.gov/policy/public-comments/2018/10/initiative-777?page=18\n",
      "https://www.ftc.gov/policy/public-comments/2018/10/initiative-777?page=19\n",
      "https://www.ftc.gov/policy/public-comments/2018/10/initiative-777?page=20\n",
      "https://www.ftc.gov/policy/public-comments/2018/10/initiative-777?page=21\n",
      "https://www.ftc.gov/policy/public-comments/2018/10/initiative-777?page=22\n",
      "https://www.ftc.gov/policy/public-comments/2018/10/initiative-777?page=23\n",
      "https://www.ftc.gov/policy/public-comments/2018/10/initiative-777?page=24\n",
      "https://www.ftc.gov/policy/public-comments/2018/10/initiative-777?page=25\n",
      "https://www.ftc.gov/policy/public-comments/2018/10/initiative-777?page=26\n",
      "https://www.ftc.gov/policy/public-comments/2018/10/initiative-777?page=27\n",
      "https://www.ftc.gov/policy/public-comments/2018/10/initiative-777?page=28\n",
      "https://www.ftc.gov/policy/public-comments/2018/10/initiative-777?page=29\n",
      "https://www.ftc.gov/policy/public-comments/2018/10/initiative-777?page=30\n",
      "https://www.ftc.gov/policy/public-comments/2018/10/initiative-777?page=31\n",
      "https://www.ftc.gov/policy/public-comments/2018/10/initiative-777?page=32\n",
      "https://www.ftc.gov/policy/public-comments/2018/10/initiative-777?page=33\n"
     ]
    }
   ],
   "source": [
    "for n in range(0, 34):\n",
    "    if n > 0:\n",
    "        url = f'https://www.ftc.gov/policy/public-comments/2018/10/initiative-777?page={ n }'\n",
    "    else:\n",
    "        url = 'https://www.ftc.gov/policy/public-comments/2018/10/initiative-777'\n",
    "    print(url)"
   ]
  },
  {
   "cell_type": "code",
   "execution_count": null,
   "id": "4c98d0ef",
   "metadata": {},
   "outputs": [],
   "source": []
  }
 ],
 "metadata": {
  "kernelspec": {
   "display_name": "Python 3 (ipykernel)",
   "language": "python",
   "name": "python3"
  },
  "language_info": {
   "codemirror_mode": {
    "name": "ipython",
    "version": 3
   },
   "file_extension": ".py",
   "mimetype": "text/x-python",
   "name": "python",
   "nbconvert_exporter": "python",
   "pygments_lexer": "ipython3",
   "version": "3.8.5"
  },
  "toc": {
   "base_numbering": 1,
   "nav_menu": {},
   "number_sections": true,
   "sideBar": true,
   "skip_h1_title": true,
   "title_cell": "Table of Contents",
   "title_sidebar": "Contents",
   "toc_cell": true,
   "toc_position": {},
   "toc_section_display": true,
   "toc_window_display": true
  }
 },
 "nbformat": 4,
 "nbformat_minor": 5
}
