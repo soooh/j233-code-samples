{
 "cells": [
  {
   "cell_type": "markdown",
   "id": "469f7de8",
   "metadata": {
    "toc": true
   },
   "source": [
    "# Lecture 02 Code samples"
   ]
  },
  {
   "cell_type": "markdown",
   "id": "787df231",
   "metadata": {},
   "source": [
    "## `if`...`elif`...`else` statements \n",
    "\n",
    "### Example"
   ]
  },
  {
   "cell_type": "code",
   "execution_count": null,
   "id": "30fe80ba",
   "metadata": {},
   "outputs": [],
   "source": [
    "def dog_age(human_age):\n",
    "    if type(human_age) != int:\n",
    "        return 'Enter an integer'\n",
    "    elif human_age < 0:\n",
    "        return 'Not born yet!'\n",
    "    elif human_age == 0:\n",
    "        return 0\n",
    "    elif human_age == 1:\n",
    "        return 15\n",
    "    elif human_age == 2:\n",
    "        return 22\n",
    "    else:\n",
    "        return 22 + (5 * (human_age - 2))"
   ]
  },
  {
   "cell_type": "code",
   "execution_count": null,
   "id": "c26f2329",
   "metadata": {},
   "outputs": [],
   "source": [
    "dog_age(4)"
   ]
  },
  {
   "cell_type": "markdown",
   "id": "795a6497",
   "metadata": {},
   "source": [
    "## `while` loops\n",
    "\n",
    "### Example"
   ]
  },
  {
   "cell_type": "code",
   "execution_count": null,
   "id": "49b80b59",
   "metadata": {},
   "outputs": [],
   "source": [
    "# While the condition is met\n",
    "# continue to loop\n",
    "age = 0\n",
    "while age <= 16:\n",
    "    print(f'{ age }: ineligible to drive')\n",
    "    age = age + 1\n",
    "    # You can also write:\n",
    "    # age += 1 "
   ]
  },
  {
   "cell_type": "markdown",
   "id": "c18d99a1",
   "metadata": {},
   "source": [
    "## `for` loops\n",
    "\n",
    "### Example"
   ]
  },
  {
   "cell_type": "code",
   "execution_count": null,
   "id": "9daea6ba",
   "metadata": {},
   "outputs": [],
   "source": [
    "# This is Reveal's Data Team\n",
    "for person in ['Dhruv', 'Melissa', 'Mohamed', 'Soo']:\n",
    "    print(person, end=' ')"
   ]
  },
  {
   "cell_type": "markdown",
   "id": "638a3310",
   "metadata": {},
   "source": [
    "### Example\n",
    "\n",
    "A Reveal reporter made a request to scrape complaints from the FTC's website: https://www.ftc.gov/policy/public-comments/2018/10/initiative-777 (for [this story](https://revealnews.org/podcast/the-ticket-trap/)).\n",
    "\n",
    "We can use a `for` loop and an `if`... `else` conditional statement to print a list of all the pages."
   ]
  },
  {
   "cell_type": "code",
   "execution_count": null,
   "id": "f000cdac",
   "metadata": {},
   "outputs": [],
   "source": [
    "for n in range(0, 34):\n",
    "    if n > 0:\n",
    "        url = f'https://www.ftc.gov/policy/public-comments/2018/10/initiative-777?page={ n }'\n",
    "    else:\n",
    "        url = 'https://www.ftc.gov/policy/public-comments/2018/10/initiative-777'\n",
    "    print(url)"
   ]
  },
  {
   "cell_type": "markdown",
   "id": "f16ba1a5",
   "metadata": {},
   "source": [
    "## A bad infinite loop!"
   ]
  },
  {
   "cell_type": "code",
   "execution_count": null,
   "id": "cb741538",
   "metadata": {},
   "outputs": [],
   "source": [
    "# What's wrong with this loop?\n",
    "n = 1\n",
    "while (n <= 1):\n",
    "    print(n)"
   ]
  }
 ],
 "metadata": {
  "kernelspec": {
   "display_name": "Python 3 (ipykernel)",
   "language": "python",
   "name": "python3"
  },
  "language_info": {
   "codemirror_mode": {
    "name": "ipython",
    "version": 3
   },
   "file_extension": ".py",
   "mimetype": "text/x-python",
   "name": "python",
   "nbconvert_exporter": "python",
   "pygments_lexer": "ipython3",
   "version": "3.8.5"
  },
  "toc": {
   "base_numbering": 1,
   "nav_menu": {},
   "number_sections": true,
   "sideBar": true,
   "skip_h1_title": true,
   "title_cell": "Table of Contents",
   "title_sidebar": "Contents",
   "toc_cell": true,
   "toc_position": {},
   "toc_section_display": true,
   "toc_window_display": true
  }
 },
 "nbformat": 4,
 "nbformat_minor": 5
}
