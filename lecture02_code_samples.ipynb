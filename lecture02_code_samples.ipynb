{
 "cells": [
  {
   "cell_type": "markdown",
   "id": "469f7de8",
   "metadata": {
    "toc": true
   },
   "source": [
    "# Lecture 02 Code samples"
   ]
  },
  {
   "cell_type": "markdown",
   "id": "70041c5f",
   "metadata": {},
   "source": [
    "## Conditional statements (`if`... `elif`... `else`)"
   ]
  },
  {
   "cell_type": "markdown",
   "id": "a85ffa8e",
   "metadata": {},
   "source": [
    "### Example"
   ]
  },
  {
   "cell_type": "code",
   "execution_count": null,
   "id": "37a57649",
   "metadata": {},
   "outputs": [],
   "source": [
    "def average(n1, n2):\n",
    "    return (n1 + n2)/2"
   ]
  },
  {
   "cell_type": "code",
   "execution_count": null,
   "id": "a6841f67",
   "metadata": {},
   "outputs": [],
   "source": [
    "average(1, 10)"
   ]
  },
  {
   "cell_type": "code",
   "execution_count": null,
   "id": "d5ce4d53",
   "metadata": {},
   "outputs": [],
   "source": [
    "average(4232.9, 293.3)"
   ]
  },
  {
   "cell_type": "markdown",
   "id": "590a7070",
   "metadata": {},
   "source": [
    "## `while` loops\n",
    "\n",
    "### Example 1"
   ]
  },
  {
   "cell_type": "code",
   "execution_count": null,
   "id": "49b80b59",
   "metadata": {},
   "outputs": [],
   "source": [
    "# While the condition is met\n",
    "# continue to loop\n",
    "age = 0\n",
    "while age <= 15:\n",
    "    print(f'{ age }: ineligible to drive')\n",
    "    age = age + 1\n",
    "    # You can also write:\n",
    "    # age += 1 "
   ]
  },
  {
   "cell_type": "markdown",
   "id": "cc45778e",
   "metadata": {},
   "source": [
    "## `for` loops\n",
    "\n",
    "### Example"
   ]
  },
  {
   "cell_type": "code",
   "execution_count": null,
   "id": "d09d7871",
   "metadata": {},
   "outputs": [],
   "source": [
    "for n in range(10):\n",
    "    print(n)"
   ]
  },
  {
   "cell_type": "markdown",
   "id": "f79409fc",
   "metadata": {},
   "source": [
    "### Example\n",
    "\n",
    "A Reveal reporter made a request to scrape complaints from the FTC's website: https://www.ftc.gov/policy/public-comments/2018/10/initiative-777 (for [this story](https://revealnews.org/podcast/the-ticket-trap/)).\n",
    "\n",
    "We can use a `for` loop and an `if`... `else` conditional statement to print a list of all the pages."
   ]
  },
  {
   "cell_type": "code",
   "execution_count": null,
   "id": "4430baf4",
   "metadata": {},
   "outputs": [],
   "source": [
    "for n in range(0, 34):\n",
    "    if n > 0:\n",
    "        url = f'https://www.ftc.gov/policy/public-comments/2018/10/initiative-777?page={ n }'\n",
    "    else:\n",
    "        url = 'https://www.ftc.gov/policy/public-comments/2018/10/initiative-777'\n",
    "    print(url)"
   ]
  },
  {
   "cell_type": "code",
   "execution_count": null,
   "id": "c8e9f0c9",
   "metadata": {},
   "outputs": [],
   "source": []
  }
 ],
 "metadata": {
  "kernelspec": {
   "display_name": "Python 3 (ipykernel)",
   "language": "python",
   "name": "python3"
  },
  "language_info": {
   "codemirror_mode": {
    "name": "ipython",
    "version": 3
   },
   "file_extension": ".py",
   "mimetype": "text/x-python",
   "name": "python",
   "nbconvert_exporter": "python",
   "pygments_lexer": "ipython3",
   "version": "3.8.5"
  },
  "toc": {
   "base_numbering": 1,
   "nav_menu": {},
   "number_sections": true,
   "sideBar": true,
   "skip_h1_title": true,
   "title_cell": "Table of Contents",
   "title_sidebar": "Contents",
   "toc_cell": true,
   "toc_position": {},
   "toc_section_display": true,
   "toc_window_display": true
  }
 },
 "nbformat": 4,
 "nbformat_minor": 5
}
