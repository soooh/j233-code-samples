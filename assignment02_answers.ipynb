{
 "cells": [
  {
   "cell_type": "markdown",
   "id": "ff15b617",
   "metadata": {},
   "source": [
    "# Assignment 2"
   ]
  },
  {
   "cell_type": "markdown",
   "id": "91a43ea8",
   "metadata": {},
   "source": [
    "## Convert F to C\n",
    "Write a function in Python that converts degrees Fahrenheit to degrees Celsius. (To convert temperatures in degrees Fahrenheit to Celsius, subtract 32 and multiply by 5/9.)"
   ]
  },
  {
   "cell_type": "code",
   "execution_count": 1,
   "id": "4bb74f0a",
   "metadata": {},
   "outputs": [],
   "source": [
    "def convert_f_to_c(degrees):\n",
    "    if (type(degrees) == int) or (type(degrees) == float):\n",
    "        return (degrees - 32) * 5/9\n",
    "    else:\n",
    "        return 'Error'"
   ]
  },
  {
   "cell_type": "code",
   "execution_count": 2,
   "id": "2949a693",
   "metadata": {},
   "outputs": [
    {
     "data": {
      "text/plain": [
       "'Error'"
      ]
     },
     "execution_count": 2,
     "metadata": {},
     "output_type": "execute_result"
    }
   ],
   "source": [
    "convert_f_to_c('test')"
   ]
  },
  {
   "cell_type": "code",
   "execution_count": 3,
   "id": "d4ae0c40",
   "metadata": {},
   "outputs": [
    {
     "data": {
      "text/plain": [
       "27.22222222222222"
      ]
     },
     "execution_count": 3,
     "metadata": {},
     "output_type": "execute_result"
    }
   ],
   "source": [
    "convert_f_to_c(81)"
   ]
  },
  {
   "cell_type": "code",
   "execution_count": 4,
   "id": "95472ca7",
   "metadata": {},
   "outputs": [
    {
     "data": {
      "text/plain": [
       "21.11111111111111"
      ]
     },
     "execution_count": 4,
     "metadata": {},
     "output_type": "execute_result"
    }
   ],
   "source": [
    "convert_f_to_c(70)"
   ]
  },
  {
   "cell_type": "markdown",
   "id": "9cb78362",
   "metadata": {},
   "source": [
    "Note: You can use the built-in function `round(number, decimal points)`:"
   ]
  },
  {
   "cell_type": "code",
   "execution_count": 5,
   "id": "f3242ad6",
   "metadata": {},
   "outputs": [],
   "source": [
    "def convert_f_to_c(degrees):\n",
    "    if (type(degrees) == int) or (type(degrees) == float):\n",
    "        return round((degrees - 32) * 5/9, 1)\n",
    "    else:\n",
    "        return 'Error'"
   ]
  },
  {
   "cell_type": "code",
   "execution_count": 6,
   "id": "a20c679d",
   "metadata": {},
   "outputs": [
    {
     "data": {
      "text/plain": [
       "21.1"
      ]
     },
     "execution_count": 6,
     "metadata": {},
     "output_type": "execute_result"
    }
   ],
   "source": [
    "convert_f_to_c(70)"
   ]
  },
  {
   "cell_type": "markdown",
   "id": "febf6f7c",
   "metadata": {},
   "source": [
    "## `teenager`\n",
    "Write a function `teenager` that tells me if a given age counts as a teenager."
   ]
  },
  {
   "cell_type": "code",
   "execution_count": 7,
   "id": "3680c59c",
   "metadata": {},
   "outputs": [],
   "source": [
    "def teenager(age):\n",
    "    if (type(age) == int) or (type(age) == float):\n",
    "        return 13 <= age < 20\n",
    "    else:\n",
    "        return 'Enter a number'"
   ]
  },
  {
   "cell_type": "code",
   "execution_count": 8,
   "id": "3f16759f",
   "metadata": {},
   "outputs": [
    {
     "data": {
      "text/plain": [
       "False"
      ]
     },
     "execution_count": 8,
     "metadata": {},
     "output_type": "execute_result"
    }
   ],
   "source": [
    "teenager(20)"
   ]
  },
  {
   "cell_type": "code",
   "execution_count": 9,
   "id": "2a6da783",
   "metadata": {},
   "outputs": [
    {
     "data": {
      "text/plain": [
       "True"
      ]
     },
     "execution_count": 9,
     "metadata": {},
     "output_type": "execute_result"
    }
   ],
   "source": [
    "teenager(19.9)"
   ]
  },
  {
   "cell_type": "code",
   "execution_count": 10,
   "id": "07675777",
   "metadata": {},
   "outputs": [
    {
     "data": {
      "text/plain": [
       "True"
      ]
     },
     "execution_count": 10,
     "metadata": {},
     "output_type": "execute_result"
    }
   ],
   "source": [
    "teenager(15)"
   ]
  },
  {
   "cell_type": "code",
   "execution_count": 11,
   "id": "2d22b7c0",
   "metadata": {},
   "outputs": [
    {
     "data": {
      "text/plain": [
       "False"
      ]
     },
     "execution_count": 11,
     "metadata": {},
     "output_type": "execute_result"
    }
   ],
   "source": [
    "teenager(12.9)"
   ]
  },
  {
   "cell_type": "markdown",
   "id": "f48cfc2a",
   "metadata": {},
   "source": [
    "## `letter_grade`\n",
    "\n",
    "Write a function called `letter_grade` that takes in a number between 0 and 100 and returns a letter grade. (You can optionally figure out what to do with non-numbers, negative numbers, or numbers greater than 100.) "
   ]
  },
  {
   "cell_type": "code",
   "execution_count": 12,
   "id": "9afc9b88",
   "metadata": {},
   "outputs": [],
   "source": [
    "def letter_grade(points):\n",
    "    # good line from mengyuan\n",
    "    if type(points) != int and type(points) != float:\n",
    "        return 'Not a number'\n",
    "    # note that i didn't write all the lines for A+, B-, etc., \n",
    "    # but you should be able to figure out how to do it\n",
    "    elif (points < 0) or (points > 100):\n",
    "        return 'Points fall outside of bounds'\n",
    "    elif points >= 90:\n",
    "        return 'A'\n",
    "    elif points >= 80:\n",
    "        return 'B'\n",
    "    elif points >= 70:\n",
    "        return 'C'\n",
    "    elif points >= 60:\n",
    "        return 'D'\n",
    "    else:\n",
    "        return 'F'"
   ]
  },
  {
   "cell_type": "code",
   "execution_count": 13,
   "id": "2c9a2a77",
   "metadata": {},
   "outputs": [
    {
     "data": {
      "text/plain": [
       "'A'"
      ]
     },
     "execution_count": 13,
     "metadata": {},
     "output_type": "execute_result"
    }
   ],
   "source": [
    "letter_grade(95)"
   ]
  },
  {
   "cell_type": "code",
   "execution_count": 14,
   "id": "8ec5056e",
   "metadata": {},
   "outputs": [
    {
     "data": {
      "text/plain": [
       "'F'"
      ]
     },
     "execution_count": 14,
     "metadata": {},
     "output_type": "execute_result"
    }
   ],
   "source": [
    "letter_grade(32)"
   ]
  },
  {
   "cell_type": "code",
   "execution_count": 15,
   "id": "fe7f72ab",
   "metadata": {},
   "outputs": [
    {
     "data": {
      "text/plain": [
       "'A'"
      ]
     },
     "execution_count": 15,
     "metadata": {},
     "output_type": "execute_result"
    }
   ],
   "source": [
    "letter_grade(100)"
   ]
  },
  {
   "cell_type": "code",
   "execution_count": 16,
   "id": "497ac758",
   "metadata": {},
   "outputs": [
    {
     "data": {
      "text/plain": [
       "'F'"
      ]
     },
     "execution_count": 16,
     "metadata": {},
     "output_type": "execute_result"
    }
   ],
   "source": [
    "letter_grade(0)"
   ]
  },
  {
   "cell_type": "code",
   "execution_count": 17,
   "id": "eeef56a6",
   "metadata": {},
   "outputs": [
    {
     "data": {
      "text/plain": [
       "'Points fall outside of bounds'"
      ]
     },
     "execution_count": 17,
     "metadata": {},
     "output_type": "execute_result"
    }
   ],
   "source": [
    "letter_grade(200)"
   ]
  },
  {
   "cell_type": "code",
   "execution_count": 18,
   "id": "605921e1",
   "metadata": {},
   "outputs": [
    {
     "data": {
      "text/plain": [
       "'Points fall outside of bounds'"
      ]
     },
     "execution_count": 18,
     "metadata": {},
     "output_type": "execute_result"
    }
   ],
   "source": [
    "letter_grade(-10)"
   ]
  },
  {
   "cell_type": "code",
   "execution_count": 19,
   "id": "c5985039",
   "metadata": {},
   "outputs": [
    {
     "data": {
      "text/plain": [
       "'Not a number'"
      ]
     },
     "execution_count": 19,
     "metadata": {},
     "output_type": "execute_result"
    }
   ],
   "source": [
    "letter_grade('test')"
   ]
  },
  {
   "cell_type": "markdown",
   "id": "f7120083",
   "metadata": {},
   "source": [
    "## `parity`\n",
    "\n",
    "Write a function called `parity` that tells us if an argument is odd, even, or neither."
   ]
  },
  {
   "cell_type": "code",
   "execution_count": 20,
   "id": "886ec9dd",
   "metadata": {},
   "outputs": [],
   "source": [
    "def parity(n):\n",
    "    if (type(n) != int):\n",
    "        return 'not an integer'\n",
    "    elif (n % 2 == 0):\n",
    "        return 'even'\n",
    "    else:\n",
    "        return 'odd'"
   ]
  },
  {
   "cell_type": "code",
   "execution_count": 21,
   "id": "eb94f2df",
   "metadata": {},
   "outputs": [
    {
     "data": {
      "text/plain": [
       "'even'"
      ]
     },
     "execution_count": 21,
     "metadata": {},
     "output_type": "execute_result"
    }
   ],
   "source": [
    "parity(100)"
   ]
  },
  {
   "cell_type": "code",
   "execution_count": 22,
   "id": "54993f9d",
   "metadata": {},
   "outputs": [
    {
     "data": {
      "text/plain": [
       "'odd'"
      ]
     },
     "execution_count": 22,
     "metadata": {},
     "output_type": "execute_result"
    }
   ],
   "source": [
    "parity(5)"
   ]
  },
  {
   "cell_type": "code",
   "execution_count": 23,
   "id": "c3a76bb1",
   "metadata": {},
   "outputs": [
    {
     "data": {
      "text/plain": [
       "'odd'"
      ]
     },
     "execution_count": 23,
     "metadata": {},
     "output_type": "execute_result"
    }
   ],
   "source": [
    "parity(-5)"
   ]
  },
  {
   "cell_type": "code",
   "execution_count": 24,
   "id": "03656009",
   "metadata": {},
   "outputs": [
    {
     "data": {
      "text/plain": [
       "'not an integer'"
      ]
     },
     "execution_count": 24,
     "metadata": {},
     "output_type": "execute_result"
    }
   ],
   "source": [
    "parity(0.3)"
   ]
  },
  {
   "cell_type": "code",
   "execution_count": 25,
   "id": "c2533d2f",
   "metadata": {},
   "outputs": [
    {
     "data": {
      "text/plain": [
       "'not an integer'"
      ]
     },
     "execution_count": 25,
     "metadata": {},
     "output_type": "execute_result"
    }
   ],
   "source": [
    "parity(100.0)"
   ]
  },
  {
   "cell_type": "markdown",
   "id": "38212ec2",
   "metadata": {},
   "source": [
    "Note: By the way, this function doesn't perfectly work! `100.0` is an even number, but because we represented it as a float, the function says it's not even. How do you think we can test for something like this?"
   ]
  }
 ],
 "metadata": {
  "kernelspec": {
   "display_name": "Python 3 (ipykernel)",
   "language": "python",
   "name": "python3"
  },
  "language_info": {
   "codemirror_mode": {
    "name": "ipython",
    "version": 3
   },
   "file_extension": ".py",
   "mimetype": "text/x-python",
   "name": "python",
   "nbconvert_exporter": "python",
   "pygments_lexer": "ipython3",
   "version": "3.8.5"
  },
  "varInspector": {
   "cols": {
    "lenName": 16,
    "lenType": 16,
    "lenVar": 40
   },
   "kernels_config": {
    "python": {
     "delete_cmd_postfix": "",
     "delete_cmd_prefix": "del ",
     "library": "var_list.py",
     "varRefreshCmd": "print(var_dic_list())"
    },
    "r": {
     "delete_cmd_postfix": ") ",
     "delete_cmd_prefix": "rm(",
     "library": "var_list.r",
     "varRefreshCmd": "cat(var_dic_list()) "
    }
   },
   "types_to_exclude": [
    "module",
    "function",
    "builtin_function_or_method",
    "instance",
    "_Feature"
   ],
   "window_display": false
  }
 },
 "nbformat": 4,
 "nbformat_minor": 5
}
